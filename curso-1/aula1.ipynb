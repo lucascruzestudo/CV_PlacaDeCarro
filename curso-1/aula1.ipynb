{
 "cells": [
  {
   "cell_type": "code",
   "execution_count": 1,
   "metadata": {},
   "outputs": [],
   "source": [
    "import cv2\n",
    "import pytesseract"
   ]
  },
  {
   "cell_type": "code",
   "execution_count": 5,
   "metadata": {},
   "outputs": [],
   "source": [
    "img = cv2.imread('imagens/trecho_livro.png')\n",
    "cv2.imshow('image', img)\n",
    "cv2.waitKey(0)\n",
    "cv2.destroyAllWindows()"
   ]
  },
  {
   "cell_type": "code",
   "execution_count": 4,
   "metadata": {},
   "outputs": [
    {
     "name": "stdout",
     "output_type": "stream",
     "text": [
      "— Um mal é um mal, Stregobor — retrucou seriamente 0 bry.\n",
      "xo, pondo-se de pé. — Menor, maior, médio, tanto faz... A\n",
      "porgdes sao convencionadas e as fronteiras, imprecisas.\n",
      "um santo eremita e nao pratiquei apenas 0 bem ao longo de mi-\n",
      "nha vida. Mas, se me couber escolher entre dois males, prefiro\n",
      "\n",
      "abster-me por completo da escolha. Esta na hora de ir embora.\n",
      "Ver-nos-emos amanha.\n",
      "\n",
      " \n",
      "\n",
      "S pro-\n",
      "\n",
      "40 SOU\n",
      "\n",
      " \n",
      "\n",
      " \n",
      "\f\n"
     ]
    }
   ],
   "source": [
    "texto = pytesseract.image_to_string(img)\n",
    "print(texto)"
   ]
  },
  {
   "cell_type": "code",
   "execution_count": 8,
   "metadata": {},
   "outputs": [],
   "source": [
    "config_tesseract = \"--tessdata-dir tessdata --psm 6\""
   ]
  },
  {
   "cell_type": "code",
   "execution_count": 9,
   "metadata": {},
   "outputs": [
    {
     "name": "stdout",
     "output_type": "stream",
     "text": [
      "— Um mal é um mal, Stregobor — retrucou seriamente o bry-\n",
      "xo, pondo-se de pé. — Menor, maior, médio, tanto faz... As pro-\n",
      "porções são convencionadas e as fronteiras, imprecisas. Não sou\n",
      "um santo eremita e não pratiquei apenas o bem ao longo de mi-\n",
      "nha vida. Mas, se me couber escolher entre dois males, prefiro\n",
      "abster-me por completo da escolha. Está na hora de ir embora. ;\n",
      "Ver-nos-emos amanhã. |\n",
      "\f\n"
     ]
    }
   ],
   "source": [
    "texto_configurado = pytesseract.image_to_string(img, lang = \"por\", config=config_tesseract)\n",
    "print(texto_configurado)"
   ]
  },
  {
   "cell_type": "code",
   "execution_count": 10,
   "metadata": {},
   "outputs": [],
   "source": [
    "imagem_placa = cv2.imread('./imagens/placa_carro1.png')\n",
    "cv2.imshow('image', imagem_placa)\n",
    "cv2.waitKey(0)\n",
    "cv2.destroyAllWindows()"
   ]
  },
  {
   "cell_type": "code",
   "execution_count": 19,
   "metadata": {},
   "outputs": [],
   "source": [
    "imagem_placa_escala_cinza = cv2.cvtColor(imagem_placa, cv2.COLOR_BGR2GRAY)\n",
    "cv2.imshow('image', imagem_placa_escala_cinza)\n",
    "cv2.waitKey(0)\n",
    "cv2.destroyAllWindows()"
   ]
  },
  {
   "cell_type": "code",
   "execution_count": 18,
   "metadata": {},
   "outputs": [
    {
     "name": "stdout",
     "output_type": "stream",
     "text": [
      "[ PLR3D97\n",
      "\n",
      " \n",
      "\f\n"
     ]
    }
   ],
   "source": [
    "config_tesseract = \"--tessdata-dir tessdata --psm 4\"\n",
    "texto_configurado = pytesseract.image_to_string(imagem_placa_escala_cinza, lang = \"por\", config=config_tesseract)\n",
    "print(texto_configurado)"
   ]
  }
 ],
 "metadata": {
  "kernelspec": {
   "display_name": "Python 3",
   "language": "python",
   "name": "python3"
  },
  "language_info": {
   "codemirror_mode": {
    "name": "ipython",
    "version": 3
   },
   "file_extension": ".py",
   "mimetype": "text/x-python",
   "name": "python",
   "nbconvert_exporter": "python",
   "pygments_lexer": "ipython3",
   "version": "3.10.12"
  },
  "orig_nbformat": 4
 },
 "nbformat": 4,
 "nbformat_minor": 2
}
